{
 "cells": [
  {
   "cell_type": "code",
   "execution_count": 1,
   "id": "92106e7a",
   "metadata": {},
   "outputs": [
    {
     "name": "stderr",
     "output_type": "stream",
     "text": [
      "Using cache found in /Users/elenko/.cache/torch/hub/koleslena_sanskrit_nlp_models_main\n"
     ]
    },
    {
     "name": "stdout",
     "output_type": "stream",
     "text": [
      "Количество параметров 87454\n"
     ]
    }
   ],
   "source": [
    "import torch\n",
    "model = torch.hub.load('koleslena/sanskrit_nlp_models', 'cnn_full_pos_tagger_model')"
   ]
  },
  {
   "cell_type": "code",
   "execution_count": 2,
   "id": "fd3c718a",
   "metadata": {},
   "outputs": [
    {
     "data": {
      "text/plain": [
       "CNNPOSTagger(\n",
       "  (char_embeddings): Embedding(42, 64, padding_idx=0)\n",
       "  (backbone): StackedConv1d(\n",
       "    (layers): ModuleList(\n",
       "      (0-2): 3 x Sequential(\n",
       "        (0): Conv1d(64, 64, kernel_size=(3,), stride=(1,), padding=(1,))\n",
       "        (1): Dropout(p=0.3, inplace=False)\n",
       "        (2): LeakyReLU(negative_slope=0.01)\n",
       "      )\n",
       "    )\n",
       "  )\n",
       "  (global_pooling): AdaptiveMaxPool1d(output_size=1)\n",
       "  (out): Linear(in_features=64, out_features=734, bias=True)\n",
       ")"
      ]
     },
     "execution_count": 2,
     "metadata": {},
     "output_type": "execute_result"
    }
   ],
   "source": [
    "model"
   ]
  },
  {
   "cell_type": "code",
   "execution_count": 3,
   "id": "ed55b64e",
   "metadata": {},
   "outputs": [
    {
     "data": {
      "text/plain": [
       "734"
      ]
     },
     "execution_count": 3,
     "metadata": {},
     "output_type": "execute_result"
    }
   ],
   "source": [
    "model.labels_num"
   ]
  },
  {
   "cell_type": "code",
   "execution_count": 4,
   "id": "9948d0f4",
   "metadata": {},
   "outputs": [
    {
     "name": "stdout",
     "output_type": "stream",
     "text": [
      "torch.Size([42, 64])\n",
      "torch.Size([64, 64, 3])\n",
      "torch.Size([64])\n",
      "torch.Size([64, 64, 3])\n",
      "torch.Size([64])\n",
      "torch.Size([64, 64, 3])\n",
      "torch.Size([64])\n",
      "torch.Size([734, 64])\n",
      "torch.Size([734])\n"
     ]
    }
   ],
   "source": [
    "for param in model.parameters():\n",
    "    print(param.shape)"
   ]
  },
  {
   "cell_type": "code",
   "execution_count": 5,
   "id": "c662dede",
   "metadata": {},
   "outputs": [
    {
     "data": {
      "text/plain": [
       "42"
      ]
     },
     "execution_count": 5,
     "metadata": {},
     "output_type": "execute_result"
    }
   ],
   "source": [
    "p_list = [p.shape for p in model.parameters()]\n",
    "p_list[0][0]"
   ]
  },
  {
   "cell_type": "code",
   "execution_count": 9,
   "id": "62ec2219",
   "metadata": {},
   "outputs": [
    {
     "data": {
      "text/plain": [
       "734"
      ]
     },
     "execution_count": 9,
     "metadata": {},
     "output_type": "execute_result"
    }
   ],
   "source": [
    "p_list[len(p_list) - 1][0]"
   ]
  },
  {
   "cell_type": "code",
   "execution_count": 6,
   "id": "ebe804e0",
   "metadata": {},
   "outputs": [],
   "source": [
    "chars, tags = p_list[0][0], p_list[len(p_list) - 1][0]"
   ]
  },
  {
   "cell_type": "code",
   "execution_count": null,
   "id": "c1549a58",
   "metadata": {},
   "outputs": [
    {
     "data": {
      "text/plain": [
       "Embedding(42, 64, padding_idx=0)"
      ]
     },
     "execution_count": 13,
     "metadata": {},
     "output_type": "execute_result"
    }
   ],
   "source": [
    "model.char_embeddings"
   ]
  },
  {
   "cell_type": "code",
   "execution_count": 18,
   "id": "8043fff1",
   "metadata": {},
   "outputs": [
    {
     "name": "stdout",
     "output_type": "stream",
     "text": [
      "Requirement already satisfied: sanskrit_tagger in /Users/elenko/Documents/магистратура/prjs/vkr/vkr_env/lib/python3.9/site-packages (0.1.5)\n",
      "Requirement already satisfied: torch in /Users/elenko/Documents/магистратура/prjs/vkr/vkr_env/lib/python3.9/site-packages (from sanskrit_tagger) (2.7.1)\n",
      "Requirement already satisfied: numpy in /Users/elenko/Documents/магистратура/prjs/vkr/vkr_env/lib/python3.9/site-packages (from sanskrit_tagger) (2.0.2)\n",
      "Requirement already satisfied: tqdm in /Users/elenko/Documents/магистратура/prjs/vkr/vkr_env/lib/python3.9/site-packages (from sanskrit_tagger) (4.67.1)\n",
      "Requirement already satisfied: filelock in /Users/elenko/Documents/магистратура/prjs/vkr/vkr_env/lib/python3.9/site-packages (from torch->sanskrit_tagger) (3.18.0)\n",
      "Requirement already satisfied: typing-extensions>=4.10.0 in /Users/elenko/Documents/магистратура/prjs/vkr/vkr_env/lib/python3.9/site-packages (from torch->sanskrit_tagger) (4.14.1)\n",
      "Requirement already satisfied: sympy>=1.13.3 in /Users/elenko/Documents/магистратура/prjs/vkr/vkr_env/lib/python3.9/site-packages (from torch->sanskrit_tagger) (1.14.0)\n",
      "Requirement already satisfied: networkx in /Users/elenko/Documents/магистратура/prjs/vkr/vkr_env/lib/python3.9/site-packages (from torch->sanskrit_tagger) (3.2.1)\n",
      "Requirement already satisfied: jinja2 in /Users/elenko/Documents/магистратура/prjs/vkr/vkr_env/lib/python3.9/site-packages (from torch->sanskrit_tagger) (3.1.6)\n",
      "Requirement already satisfied: fsspec in /Users/elenko/Documents/магистратура/prjs/vkr/vkr_env/lib/python3.9/site-packages (from torch->sanskrit_tagger) (2025.7.0)\n",
      "Requirement already satisfied: mpmath<1.4,>=1.1.0 in /Users/elenko/Documents/магистратура/prjs/vkr/vkr_env/lib/python3.9/site-packages (from sympy>=1.13.3->torch->sanskrit_tagger) (1.3.0)\n",
      "Requirement already satisfied: MarkupSafe>=2.0 in /Users/elenko/Documents/магистратура/prjs/vkr/vkr_env/lib/python3.9/site-packages (from jinja2->torch->sanskrit_tagger) (3.0.2)\n"
     ]
    }
   ],
   "source": [
    "!python3 -m pip install --upgrade sanskrit_tagger"
   ]
  },
  {
   "cell_type": "code",
   "execution_count": 7,
   "id": "3a435da7",
   "metadata": {},
   "outputs": [],
   "source": [
    "from sanskrit_tagger.tagger_factory import get_pos_tagger"
   ]
  },
  {
   "cell_type": "code",
   "execution_count": 8,
   "id": "6989cd49",
   "metadata": {},
   "outputs": [
    {
     "data": {
      "text/plain": [
       "1000"
      ]
     },
     "execution_count": 8,
     "metadata": {},
     "output_type": "execute_result"
    }
   ],
   "source": [
    "pos_tagger = get_pos_tagger(model, chars, tags, max_sent_len=1000)\n",
    "pos_tagger.max_sent_len"
   ]
  },
  {
   "cell_type": "code",
   "execution_count": 9,
   "id": "d1198a1d",
   "metadata": {},
   "outputs": [],
   "source": [
    "test_pos_sentences = [\n",
    "    'atha kanyā pradāne sa tam eva arthaṁ vicintayan',\n",
    "    'samāninye ca tat sarvaṁ bhāṇḍaṁ vaivāhikaṁ nṛpaḥ',\n",
    "    'śrutvā vas tu samagraṃ tad dharma ātmā dharma saṃhitam',\n",
    "    'sveditaḥ marditaḥ ca eva rañjubhiḥ pariveṣṭitaḥ',\n",
    "    'ete vo gaṇitā vāsā yatra yatra nivatsyatha',\n",
    "    'kiṃ kāryaṃ brūta bhavatāṃ bhayaṃ nāśayitāsmi vaḥ',\n",
    "]\n",
    "test_pos_sentences_tokenized = [sent.split() for sent in test_pos_sentences]"
   ]
  },
  {
   "cell_type": "code",
   "execution_count": 10,
   "id": "380e05e5",
   "metadata": {},
   "outputs": [
    {
     "name": "stderr",
     "output_type": "stream",
     "text": [
      "1it [00:00,  2.86it/s]                     "
     ]
    },
    {
     "name": "stdout",
     "output_type": "stream",
     "text": [
      "atha-ADV kanyā-NOUN Gen Fem Sing pradāne-NOUN Loc Neut Sing sa-PRON Nom Masc Sing tam-PRON Acc Masc Sing eva-PART arthaṁ-NOUN Cpd vicintayan-VERB Nom Masc Sing Pres Part\n",
      "\n",
      "samāninye-VERB Pres Ind 1 Sing ca-CONJ tat-PRON Acc Neut Sing sarvaṁ-PRON Cpd bhāṇḍaṁ-NOUN Cpd vaivāhikaṁ-NOUN Voc Masc Sing nṛpaḥ-NOUN Nom Masc Sing\n",
      "\n",
      "śrutvā-VERB Conv vas-PRON Gen Plur tu-PART samagraṃ-NOUN Acc Masc Sing tad-PRON Acc Neut Sing dharma-NOUN Cpd ātmā-NOUN Nom Masc Sing dharma-NOUN Cpd saṃhitam-VERB Nom Neut Sing Part\n",
      "\n",
      "sveditaḥ-VERB Nom Masc Sing Part marditaḥ-VERB Nom Masc Sing Part ca-CONJ eva-PART rañjubhiḥ-NOUN Ins Masc Plur pariveṣṭitaḥ-VERB Nom Masc Sing Part\n",
      "\n",
      "ete-PRON Nom Masc Plur vo-PRON Gen Plur gaṇitā-VERB Nom Masc Plur Part vāsā-NOUN Nom Masc Plur yatra-SCONJ yatra-SCONJ nivatsyatha-VERB Fut Ind 2 Plur\n",
      "\n",
      "kiṃ-PRON Acc Neut Sing kāryaṃ-VERB Nom Neut Sing Gdv brūta-NOUN Cpd bhavatāṃ-ADJ Gen Masc Plur bhayaṃ-NOUN Acc Masc Sing nāśayitāsmi-VERB Fut Ind peri 1 Sing vaḥ-PRON Gen Plur\n",
      "\n"
     ]
    },
    {
     "name": "stderr",
     "output_type": "stream",
     "text": [
      "\n"
     ]
    }
   ],
   "source": [
    "for sent_tokens, sent_tags in zip(test_pos_sentences_tokenized, pos_tagger(test_pos_sentences)):\n",
    "    print(' '.join('{}-{}'.format(tok, tag) for tok, tag in zip(sent_tokens, sent_tags)))\n",
    "    print()"
   ]
  },
  {
   "cell_type": "code",
   "execution_count": 5,
   "id": "06ce1e5f",
   "metadata": {},
   "outputs": [
    {
     "name": "stdout",
     "output_type": "stream",
     "text": [
      "array('i', [42, 734])\n",
      "42\n"
     ]
    }
   ],
   "source": [
    "import requests\n",
    "import array as arr\n",
    "\n",
    "url = 'https://raw.githubusercontent.com/koleslena/sanskrit_nlp_models/main/output/cnn_full_pos_tagger_model_data.dat'\n",
    "response = requests.get(url)\n",
    "file_content = response.content\n",
    "\n",
    "read_array = arr.array('i')\n",
    "read_array.frombytes(file_content)\n",
    "\n",
    "print(read_array)\n",
    "print(read_array[0])\n"
   ]
  }
 ],
 "metadata": {
  "kernelspec": {
   "display_name": "vkr_env",
   "language": "python",
   "name": "vkr_env"
  },
  "language_info": {
   "codemirror_mode": {
    "name": "ipython",
    "version": 3
   },
   "file_extension": ".py",
   "mimetype": "text/x-python",
   "name": "python",
   "nbconvert_exporter": "python",
   "pygments_lexer": "ipython3",
   "version": "3.9.9"
  }
 },
 "nbformat": 4,
 "nbformat_minor": 5
}
